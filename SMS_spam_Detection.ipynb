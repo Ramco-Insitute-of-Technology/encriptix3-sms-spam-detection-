{
  "nbformat": 4,
  "nbformat_minor": 0,
  "metadata": {
    "colab": {
      "provenance": []
    },
    "kernelspec": {
      "name": "python3",
      "display_name": "Python 3"
    },
    "language_info": {
      "name": "python"
    }
  },
  "cells": [
    {
      "cell_type": "code",
      "execution_count": 1,
      "metadata": {
        "id": "hrJ0yzuTPmpi",
        "colab": {
          "base_uri": "https://localhost:8080/"
        },
        "outputId": "cc3ffece-b886-47fb-d9b3-89ff17477b91"
      },
      "outputs": [
        {
          "output_type": "stream",
          "name": "stdout",
          "text": [
            "Accuracy: 0.967713004484305\n",
            "Classification Report:\n",
            "              precision    recall  f1-score   support\n",
            "\n",
            "         ham       0.96      1.00      0.98       966\n",
            "        spam       1.00      0.76      0.86       149\n",
            "\n",
            "    accuracy                           0.97      1115\n",
            "   macro avg       0.98      0.88      0.92      1115\n",
            "weighted avg       0.97      0.97      0.97      1115\n",
            "\n",
            "Confusion Matrix:\n",
            "[[966   0]\n",
            " [ 36 113]]\n"
          ]
        }
      ],
      "source": [
        "import pandas as pd\n",
        "from sklearn.model_selection import train_test_split\n",
        "from sklearn.feature_extraction.text import TfidfVectorizer\n",
        "from sklearn.linear_model import LogisticRegression\n",
        "from sklearn.metrics import accuracy_score, classification_report, confusion_matrix\n",
        "\n",
        "def load_data(file_path, encoding='latin1'):\n",
        "    try:\n",
        "        data = pd.read_csv(file_path, encoding=encoding)\n",
        "        return data\n",
        "    except UnicodeDecodeError:\n",
        "        raise ValueError(\"File encoding issue. Try a different encoding.\")\n",
        "    except FileNotFoundError:\n",
        "        raise ValueError(\"File not found. Check the file path.\")\n",
        "\n",
        "def preprocess_data(data):\n",
        "    # Keep only the relevant columns and rename them\n",
        "    data = data[['v1', 'v2']]\n",
        "    data.columns = ['label', 'message']\n",
        "    return data\n",
        "\n",
        "def split_data(data):\n",
        "    # Split the data into training and test sets\n",
        "    X_train, X_test, y_train, y_test = train_test_split(\n",
        "        data['message'], data['label'], test_size=0.2, random_state=42, stratify=data['label']\n",
        "    )\n",
        "    return X_train, X_test, y_train, y_test\n",
        "\n",
        "def extract_features(X_train, X_test):\n",
        "    # Preprocess the text data using TF-IDF\n",
        "    vectorizer = TfidfVectorizer(stop_words='english')\n",
        "    X_train_tfidf = vectorizer.fit_transform(X_train)\n",
        "    X_test_tfidf = vectorizer.transform(X_test)\n",
        "    return X_train_tfidf, X_test_tfidf, vectorizer\n",
        "\n",
        "def train_model(X_train_tfidf, y_train):\n",
        "    # Train a Logistic Regression model\n",
        "    model = LogisticRegression()\n",
        "    model.fit(X_train_tfidf, y_train)\n",
        "    return model\n",
        "\n",
        "def evaluate_model(model, X_test_tfidf, y_test):\n",
        "    # Make predictions on the test set\n",
        "    y_pred = model.predict(X_test_tfidf)\n",
        "    # Evaluate the model\n",
        "    accuracy = accuracy_score(y_test, y_pred)\n",
        "    report = classification_report(y_test, y_pred)\n",
        "    conf_matrix = confusion_matrix(y_test, y_pred)\n",
        "    return accuracy, report, conf_matrix\n",
        "\n",
        "def main():\n",
        "    file_path = 'spam[1].csv'\n",
        "\n",
        "    # Load and preprocess data\n",
        "    data = load_data(file_path)\n",
        "    data = preprocess_data(data)\n",
        "\n",
        "    # Split the data\n",
        "    X_train, X_test, y_train, y_test = split_data(data)\n",
        "\n",
        "    # Extract features\n",
        "    X_train_tfidf, X_test_tfidf, vectorizer = extract_features(X_train, X_test)\n",
        "\n",
        "    # Train the model\n",
        "    model = train_model(X_train_tfidf, y_train)\n",
        "\n",
        "    # Evaluate the model\n",
        "    accuracy, report, conf_matrix = evaluate_model(model, X_test_tfidf, y_test)\n",
        "\n",
        "    # Print results\n",
        "    print(f'Accuracy: {accuracy}')\n",
        "    print(f'Classification Report:\\n{report}')\n",
        "    print(f'Confusion Matrix:\\n{conf_matrix}')\n",
        "\n",
        "if __name__ == \"__main__\":\n",
        "    main()\n"
      ]
    }
  ]
}